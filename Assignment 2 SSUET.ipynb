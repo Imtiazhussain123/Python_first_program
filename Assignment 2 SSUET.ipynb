{
 "cells": [
  {
   "cell_type": "code",
   "execution_count": 5,
   "metadata": {},
   "outputs": [
    {
     "name": "stdout",
     "output_type": "stream",
     "text": [
      "You scored just 5 points\n"
     ]
    }
   ],
   "source": [
    "#  problem 5.3 (1)\n",
    "alien_colors= \"green\"\n",
    "if \"green\" in alien_colors:\n",
    "    print(\"You scored just 5 points\")"
   ]
  },
  {
   "cell_type": "code",
   "execution_count": 8,
   "metadata": {
    "collapsed": true
   },
   "outputs": [],
   "source": [
    "#  problem 5.3 (2)\n",
    "alien_colors= \"green\"\n",
    "if \"blue\" in alien_colors:\n",
    "    print(\"You scored just 5 point\")"
   ]
  },
  {
   "cell_type": "code",
   "execution_count": 9,
   "metadata": {},
   "outputs": [
    {
     "name": "stdout",
     "output_type": "stream",
     "text": [
      "Yor scored 5 points!\n"
     ]
    }
   ],
   "source": [
    "#  problem 5.4 (1)\n",
    "alien_color = \"green\"\n",
    "if \"green\" in alien_colors:\n",
    "    print(\"Yor scored 5 points!\")\n",
    "else:\n",
    "    print(\"You earn 10 point!\")"
   ]
  },
  {
   "cell_type": "code",
   "execution_count": 10,
   "metadata": {},
   "outputs": [
    {
     "name": "stdout",
     "output_type": "stream",
     "text": [
      "You earn 5 point!\n"
     ]
    }
   ],
   "source": [
    "#  problem 5.4 (2)\n",
    "alien_color = \"green\"\n",
    "if \"blue\" in alien_colors:\n",
    "    print(\"Yor scored 10 points!\")\n",
    "else:\n",
    "    print(\"You earn 5 point!\")"
   ]
  },
  {
   "cell_type": "code",
   "execution_count": 12,
   "metadata": {},
   "outputs": [
    {
     "name": "stdout",
     "output_type": "stream",
     "text": [
      "you scored 15 points\n"
     ]
    }
   ],
   "source": [
    "#  problem 5.5 (1)\n",
    "alien_color = \"red\"\n",
    "if \"green\" in alien_color:\n",
    "    print(\"you scored 5 points\")\n",
    "elif \"yellow\" in alien_color:\n",
    "    print(\"you scored 10 points\")\n",
    "else:\n",
    "    print(\"you scored 15 points\")"
   ]
  },
  {
   "cell_type": "code",
   "execution_count": 13,
   "metadata": {},
   "outputs": [
    {
     "name": "stdout",
     "output_type": "stream",
     "text": [
      "you scored 5 points\n"
     ]
    }
   ],
   "source": [
    "#  problem 5.5 (2)\n",
    "alien_color = \"green\"\n",
    "if \"green\" in alien_color:\n",
    "    print(\"you scored 5 points\")\n",
    "elif \"yellow\" in alien_color:\n",
    "    print(\"you scored 10 points\")\n",
    "else:\n",
    "    print(\"you scored 15 points\")\n"
   ]
  },
  {
   "cell_type": "code",
   "execution_count": 14,
   "metadata": {},
   "outputs": [
    {
     "name": "stdout",
     "output_type": "stream",
     "text": [
      "you scored 10 points\n"
     ]
    }
   ],
   "source": [
    "#  problem 5.5 (3)\n",
    "alien_color = \"yellow\"\n",
    "if \"green\" in alien_color:\n",
    "    print(\"you scored 5 points\")\n",
    "elif \"yellow\" in alien_color:\n",
    "    print(\"you scored 10 points\")\n",
    "else:\n",
    "    print(\"you scored 15 points\")"
   ]
  },
  {
   "cell_type": "code",
   "execution_count": 15,
   "metadata": {},
   "outputs": [
    {
     "name": "stdout",
     "output_type": "stream",
     "text": [
      "Person is older\n"
     ]
    }
   ],
   "source": [
    "# # PROBLEM 5.6\n",
    "\n",
    "age= 78;\n",
    "if age<=2:\n",
    "    print(\"person is a babay\")\n",
    "elif age>2 and age<=4:\n",
    "    print(\"person is toddler\")\n",
    "elif age>4 and age<=12:\n",
    "    print(\"Person is a kid\")\n",
    "elif age>12 and age<=20:\n",
    "    print(\"Person is a teenager\")\n",
    "elif age>20 and age<=65:\n",
    "    print(\"person is a adult\")\n",
    "else:\n",
    "    print(\"Person is older\")"
   ]
  }
 ],
 "metadata": {
  "kernelspec": {
   "display_name": "Python 3",
   "language": "python",
   "name": "python3"
  },
  "language_info": {
   "codemirror_mode": {
    "name": "ipython",
    "version": 3
   },
   "file_extension": ".py",
   "mimetype": "text/x-python",
   "name": "python",
   "nbconvert_exporter": "python",
   "pygments_lexer": "ipython3",
   "version": "3.6.2"
  }
 },
 "nbformat": 4,
 "nbformat_minor": 2
}
